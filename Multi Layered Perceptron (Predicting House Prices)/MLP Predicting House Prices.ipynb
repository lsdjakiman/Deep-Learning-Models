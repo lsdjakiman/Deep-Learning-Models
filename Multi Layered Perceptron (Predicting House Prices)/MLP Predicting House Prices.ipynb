{
  "nbformat": 4,
  "nbformat_minor": 0,
  "metadata": {
    "language_info": {
      "codemirror_mode": {
        "name": "ipython",
        "version": 3
      },
      "file_extension": ".py",
      "mimetype": "text/x-python",
      "name": "python",
      "nbconvert_exporter": "python",
      "pygments_lexer": "ipython3",
      "version": "3.8.5-final"
    },
    "orig_nbformat": 2,
    "kernelspec": {
      "name": "python3",
      "display_name": "Python 3",
      "language": "python"
    },
    "colab": {
      "name": "MLP - Predicting house prices.ipynb",
      "provenance": [],
      "collapsed_sections": []
    }
  },
  "cells": [
    {
      "cell_type": "markdown",
      "metadata": {
        "id": "UwdGzoeOfbIg"
      },
      "source": [
        "# Predicting house prices: a regression example\n",
        "\n",
        "<div class=\"alert alert-block alert-info\">\n",
        "This Python Notebook is based on <a href=https://github.com/fchollet/deep-learning-with-python-notebooks/blob/master/3.7-predicting-house-prices.ipynb>https://github.com/fchollet/deep-learning-with-python-notebooks/blob/master/3.7-predicting-house-prices.ipynb</a>.\n",
        "</div>\n",
        "\n",
        "The aim is to build and use a simple feedforward neural network to perform \"regression\", that is, predict a continuous value based on some input variables. \n"
      ]
    },
    {
      "cell_type": "code",
      "metadata": {
        "colab": {
          "base_uri": "https://localhost:8080/"
        },
        "id": "kFbY3CyPfbIw",
        "outputId": "ead30053-1bd0-4a93-f458-e0e676649d37"
      },
      "source": [
        "import torch\n",
        "device = torch.device('cpu')\n",
        "print(\"Device: {}\".format(device))"
      ],
      "execution_count": 1,
      "outputs": [
        {
          "output_type": "stream",
          "text": [
            "Device: cpu\n"
          ],
          "name": "stdout"
        }
      ]
    },
    {
      "cell_type": "markdown",
      "metadata": {
        "id": "OD9zdcq8fbIw"
      },
      "source": [
        "## The Boston Housing Price dataset\n",
        "\n",
        "I will be attempting to predict the median price of homes in a given Boston suburb in the mid-1970s, given a few properties of the suburb at the time, such as the crime rate, the local property tax rate, etc. \n"
      ]
    },
    {
      "cell_type": "code",
      "metadata": {
        "id": "IPxn1q-OfbIw"
      },
      "source": [
        "from sklearn.model_selection  import train_test_split\n",
        "from sklearn.datasets import load_boston\n",
        "import pandas as pd\n",
        "\n",
        "boston = load_boston()\n",
        "\n",
        "# Load the data to a Panda's Dataframe\n",
        "boston_df = pd.DataFrame(boston['data'] )\n",
        "boston_df.head()\n",
        "\n",
        "# Add the column names.\n",
        "boston_df.columns = boston['feature_names']\n",
        "boston_df.head()\n",
        "\n",
        "# Add the target as PRICE. \n",
        "boston_df['PRICE']= boston['target']\n",
        "boston_df.head()\n",
        "\n",
        "# y is the dependent variable.\n",
        "y = boston_df['PRICE'].to_numpy()\n",
        "#iloc is used to slice the array by index number. Here this is the matrix of \n",
        "#independent variables.\n",
        "X = boston_df.iloc[:,0:13].to_numpy()\n",
        "\n",
        "# Split the data into a training set and a test set\n",
        "train_data, test_data, train_targets, test_targets = train_test_split(X, y, test_size=0.2, random_state=0)\n",
        "\n"
      ],
      "execution_count": 2,
      "outputs": []
    },
    {
      "cell_type": "code",
      "metadata": {
        "colab": {
          "base_uri": "https://localhost:8080/"
        },
        "id": "vR7_MRC0fbIx",
        "outputId": "d17d0971-62d3-4599-90df-4001f07829fb"
      },
      "source": [
        "#Let's check the shape of our train and test data:\n",
        "print(\"shape of train data:\",train_data.shape)\n",
        "print(\"shape of train data:\",test_data.shape)"
      ],
      "execution_count": 3,
      "outputs": [
        {
          "output_type": "stream",
          "text": [
            "shape of train data: (404, 13)\n",
            "shape of train data: (102, 13)\n"
          ],
          "name": "stdout"
        }
      ]
    },
    {
      "cell_type": "markdown",
      "metadata": {
        "id": "xTqovTq4fbIy"
      },
      "source": [
        "\n",
        "We have 404 training samples and 102 test samples. The data comprises 13 features. The 13 features in the input data are as follow:\n",
        "\n",
        "1. Per capita crime rate.\n",
        "2. Proportion of residential land zoned for lots over 25,000 square feet.\n",
        "3. Proportion of non-retail business acres per town.\n",
        "4. Charles River dummy variable (= 1 if tract bounds river; 0 otherwise).\n",
        "5. Nitric oxides concentration (parts per 10 million).\n",
        "6. Average number of rooms per dwelling.\n",
        "7. Proportion of owner-occupied units built prior to 1940.\n",
        "8. Weighted distances to five Boston employment centres.\n",
        "9. Index of accessibility to radial highways.\n",
        "10. Full-value property-tax rate per \\\\$10,000.\n",
        "11. Pupil-teacher ratio by town.\n",
        "12. 1000 * (Bk - 0.63) ** 2 where Bk is the proportion of Black people by town.\n",
        "13. % lower status of the population.\n",
        "\n",
        "The targets are the median values of owner-occupied homes, in thousands of dollars. Let's see some sample values:"
      ]
    },
    {
      "cell_type": "code",
      "metadata": {
        "colab": {
          "base_uri": "https://localhost:8080/"
        },
        "id": "tB_Q3ba1fbIy",
        "outputId": "9f960fb8-ffe8-4875-8d68-f6790901952c"
      },
      "source": [
        "train_targets[:10] #The prices are typically between \\\\$10,000 and \\\\$50,000. "
      ],
      "execution_count": 4,
      "outputs": [
        {
          "output_type": "execute_result",
          "data": {
            "text/plain": [
              "array([26.7, 21.7, 22. , 22.9, 10.4, 21.9, 20.6, 26.4, 41.3, 17.2])"
            ]
          },
          "metadata": {
            "tags": []
          },
          "execution_count": 4
        }
      ]
    },
    {
      "cell_type": "markdown",
      "metadata": {
        "id": "MJJb7b2XfbIy"
      },
      "source": [
        "## Preparing the data\n",
        "\n",
        "\n",
        "The features composing the input data have different scales. For instance, some values are proportions, which take values between 0 and 1, others take values between 1 and 12, others between 0 and 100... It would be problematic to feed into neural network values that all take wildly different ranges. The network might automatically adapt to such heterogeneous data, but it would make learning more difficult. A widespread best practice to deal with such data is to do feature-wise standardization. For each feature in the input data (a column in the input data matrix), we will subtract the feature's mean and divide by the standard deviation. Then, the feature will be centered around 0 and will have a unit standard deviation. \n",
        "<br><br>\n",
        "\n",
        "<center><span style=\"font-size: 150%\">$ x_{standardized} = \\frac{x - \\mu}{\\sigma} $</span></center>\n",
        "\n"
      ]
    },
    {
      "cell_type": "code",
      "metadata": {
        "id": "pxfN5cPefbIz"
      },
      "source": [
        "# Standardization of training and testing input data\n",
        "\n",
        "# Computing mean and standard deviation of the training data\n",
        "mean = train_data.mean(axis=0)\n",
        "std = train_data.std(axis=0)\n",
        "\n",
        "# Standardizing training and test data\n",
        "train_data = (train_data - mean) / std\n",
        "test_data = (test_data - mean) / std\n"
      ],
      "execution_count": 5,
      "outputs": []
    },
    {
      "cell_type": "code",
      "metadata": {
        "id": "K5gzKzPifbIz"
      },
      "source": [
        "#transform data to Pytorch tensors.\n",
        "train_data = torch.Tensor(train_data)\n",
        "test_data = torch.Tensor(test_data)\n",
        "train_targets = torch.Tensor(train_targets)\n",
        "test_targets = torch.Tensor(test_targets)"
      ],
      "execution_count": 6,
      "outputs": []
    },
    {
      "cell_type": "markdown",
      "metadata": {
        "id": "ZNVBIkbXfbIz"
      },
      "source": [
        "## Building the network\n",
        "\n",
        "Because so few samples are available, we will be using a very small network with two hidden layers, each with 64 units. In general, the less training data you have, the worse overfitting will be, and using a small network is one way to mitigate overfitting.\n",
        "\n",
        "To instantiate the model, We will use [a sequential container](https://pytorch.org/docs/master/generated/torch.nn.Sequential.html?highlight=sequential#torch.nn.Sequential), which allows to create a neural network simply by stacking layers. Given some input data, Pytorch will automatically perform the forward pass based on the network's definition. Backpropagation of the error is also handled automatically by the framework given an optimizer and a loss function.\n",
        "\n",
        "Here, you need to create a model using a sequential container and add the three layers (two hidden layers + the output layer). We will use the ReLU activation function for the two hidden layers. "
      ]
    },
    {
      "cell_type": "code",
      "metadata": {
        "id": "rIA5ETJqfbI0"
      },
      "source": [
        "from torch.nn import Sequential\n",
        "from torch import nn\n",
        "\n",
        "in_size = train_data.shape[1]\n",
        "\n",
        "def build_model():\n",
        "  \n",
        "    model = Sequential()\n",
        "    #Add layer 1    \n",
        "    model.add_module('Linear_1', nn.Linear(in_features=in_size, out_features=64, bias=True))\n",
        "    model.add_module('Relu_1', nn.ReLU())\n",
        "\n",
        "    #Add layer 2\n",
        "    model.add_module('Linear_2', nn.Linear(in_features=64, out_features=64, bias=True))\n",
        "    model.add_module('Relu_2', nn.ReLU())\n",
        "    #Add layer 3\n",
        "    model.add_module('Linear_3', nn.Linear(in_features=64, out_features=1, bias=True))    \n",
        "    \n",
        "    return model\n"
      ],
      "execution_count": 7,
      "outputs": []
    },
    {
      "cell_type": "markdown",
      "metadata": {
        "id": "i8N-CPwlfbI0"
      },
      "source": [
        "## Visualizing the network's definition"
      ]
    },
    {
      "cell_type": "code",
      "metadata": {
        "colab": {
          "base_uri": "https://localhost:8080/"
        },
        "id": "5Ege3e7efbI1",
        "outputId": "60741dca-a763-4b4a-fc27-01e50356b684"
      },
      "source": [
        "from torchsummary import summary\n",
        "\n",
        "model = build_model()\n",
        "model = model.to(device)\n",
        "summary(model, input_size=(1, in_size))"
      ],
      "execution_count": 8,
      "outputs": [
        {
          "output_type": "stream",
          "text": [
            "----------------------------------------------------------------\n",
            "        Layer (type)               Output Shape         Param #\n",
            "================================================================\n",
            "            Linear-1                [-1, 1, 64]             896\n",
            "              ReLU-2                [-1, 1, 64]               0\n",
            "            Linear-3                [-1, 1, 64]           4,160\n",
            "              ReLU-4                [-1, 1, 64]               0\n",
            "            Linear-5                 [-1, 1, 1]              65\n",
            "================================================================\n",
            "Total params: 5,121\n",
            "Trainable params: 5,121\n",
            "Non-trainable params: 0\n",
            "----------------------------------------------------------------\n",
            "Input size (MB): 0.00\n",
            "Forward/backward pass size (MB): 0.00\n",
            "Params size (MB): 0.02\n",
            "Estimated Total Size (MB): 0.02\n",
            "----------------------------------------------------------------\n"
          ],
          "name": "stdout"
        }
      ]
    },
    {
      "cell_type": "code",
      "metadata": {
        "colab": {
          "base_uri": "https://localhost:8080/"
        },
        "id": "cUswGsunfbI1",
        "outputId": "3613142c-4b29-4558-cfed-7268dc59f8f4"
      },
      "source": [
        "#For the first layer:\n",
        "\n",
        "#Weights:\n",
        "weights = model[0].weight # a Tensor\n",
        "print(\"Shape of parameters:\", weights.shape)\n",
        "print(\"First value:\", weights[0][0].item())\n",
        "\n",
        "#Bias:\n",
        "bias = model[0].bias # a Tensor\n",
        "print(\"Shape of parameters:\", bias.shape)\n",
        "print(\"First value:\", bias[0].item())"
      ],
      "execution_count": 9,
      "outputs": [
        {
          "output_type": "stream",
          "text": [
            "Shape of parameters: torch.Size([64, 13])\n",
            "First value: -0.22670592367649078\n",
            "Shape of parameters: torch.Size([64])\n",
            "First value: -0.25150948762893677\n"
          ],
          "name": "stdout"
        }
      ]
    },
    {
      "cell_type": "markdown",
      "metadata": {
        "id": "9JIwmo1hfbI1"
      },
      "source": [
        "## Exercise 4 - Validating our approach using K-fold validation\n"
      ]
    },
    {
      "cell_type": "code",
      "metadata": {
        "colab": {
          "base_uri": "https://localhost:8080/"
        },
        "id": "7U5BmVubfbI1",
        "outputId": "b0a5eed8-bae6-4d01-a4ab-d63e256dfa6b"
      },
      "source": [
        "from torch import optim\n",
        "import numpy as np\n",
        "from random import shuffle\n",
        "\n",
        "k = 4 #number of crossvalidation folds\n",
        "batch_size = 1\n",
        "num_val_samples = len(train_data) // k\n",
        "num_epochs = 100\n",
        "\n",
        "all_scores = [] # Should add the score of each run at the end of the loop\n",
        "\n",
        "for i in range(k):\n",
        "    print('processing fold #', i)\n",
        "    # Prepare the validation data: data from partition # k\n",
        "    val_data = train_data[i * num_val_samples: (i + 1) * num_val_samples]\n",
        "    val_targets = train_targets[i * num_val_samples: (i + 1) * num_val_samples]\n",
        "\n",
        "    # Prepare the training data: data from all other partitions\n",
        "    partial_train_data = torch.cat(\n",
        "        [train_data[:i * num_val_samples],\n",
        "         train_data[(i + 1) * num_val_samples:]],\n",
        "        axis=0)\n",
        "    partial_train_targets = torch.cat(\n",
        "        [train_targets[:i * num_val_samples],\n",
        "         train_targets[(i + 1) * num_val_samples:]],\n",
        "        axis=0)\n",
        "    \n",
        "    # Build the model\n",
        "    model = build_model()\n",
        "    # Define an SGD optimizer\n",
        "    optimizer = optim.SGD(model.parameters(), lr=0.001) \n",
        "    # Define the MAE loss function \n",
        "    mae_loss = nn.L1Loss(reduction='mean')\n",
        "    # Defina the MSE loss function\n",
        "    mse_loss = nn.MSELoss(reduction='mean')\n",
        "    \n",
        "    # TRAIN THE MODEL:\n",
        "    # Set the model to train\n",
        "    model.train()\n",
        "    # Create some random indices to go through the dataset randomly\n",
        "    batch_indeces = list(range(len(partial_train_data)//batch_size))\n",
        "    shuffle(batch_indeces)\n",
        "\n",
        "    # Train cycle:\n",
        "    for epoch in range(num_epochs):\n",
        "        for b_idx in batch_indeces:\n",
        "\n",
        "            # Set gradients to zero for all parameters\n",
        "            optimizer.zero_grad()\n",
        "\n",
        "            # Create the batch\n",
        "            batch_start = b_idx * batch_size\n",
        "            batch_end = (b_idx + 1) * batch_size            \n",
        "            data_batch = partial_train_data[batch_start : batch_end]\n",
        "            target_batch = partial_train_targets[batch_start : batch_end].squeeze()\n",
        "\n",
        "            # Get the predictions from the model\n",
        "            predictions = model(data_batch).squeeze()\n",
        "\n",
        "            # Calcualte the loss function\n",
        "            loss = mse_loss(predictions, target_batch)\n",
        "\n",
        "            # Back propagate and update parameters\n",
        "            loss.backward()\n",
        "            optimizer.step()\n",
        "        \n",
        "    # Evaluate the model on the validation data\n",
        "    model.eval()\n",
        "    predictions = model(val_data).squeeze()\n",
        "    val_mae = mae_loss(predictions, val_targets)\n",
        "    val_mse = mse_loss(predictions, val_targets)\n",
        "    all_scores.append(val_mae.item())\n"
      ],
      "execution_count": 10,
      "outputs": [
        {
          "output_type": "stream",
          "text": [
            "processing fold # 0\n",
            "processing fold # 1\n",
            "processing fold # 2\n",
            "processing fold # 3\n"
          ],
          "name": "stdout"
        }
      ]
    },
    {
      "cell_type": "code",
      "metadata": {
        "colab": {
          "base_uri": "https://localhost:8080/"
        },
        "id": "C5TEqm4ifbI2",
        "outputId": "467db7d0-2497-4cd5-96f8-c1df48f366ab"
      },
      "source": [
        "np.mean(all_scores)"
      ],
      "execution_count": 11,
      "outputs": [
        {
          "output_type": "execute_result",
          "data": {
            "text/plain": [
              "2.7599481344223022"
            ]
          },
          "metadata": {
            "tags": []
          },
          "execution_count": 11
        }
      ]
    },
    {
      "cell_type": "markdown",
      "metadata": {
        "id": "CRIFFNCJfbI3"
      },
      "source": [
        "Let's try training the network for a bit longer: 250 epochs. To keep a record of how well the model did at each epoch, we will modify our training loop \n",
        "to save the per-epoch training and validation score log:"
      ]
    },
    {
      "cell_type": "code",
      "metadata": {
        "colab": {
          "base_uri": "https://localhost:8080/"
        },
        "id": "6WOsCEv1fbI3",
        "outputId": "e4971874-39dd-40bb-85c3-e7276440c794"
      },
      "source": [
        "\n",
        "k = 4\n",
        "batch_size = 4\n",
        "num_val_samples = len(train_data) // k\n",
        "num_epochs = 250\n",
        "all_mae_histories = []\n",
        "val_all_mae_histories = []\n",
        "\n",
        "for i in range(k):\n",
        "    train_history = []\n",
        "    val_history = []\n",
        "\n",
        "    print('processing fold #', i)\n",
        "    # Prepare the validation data: data from partition # k\n",
        "    val_data = train_data[i * num_val_samples: (i + 1) * num_val_samples]\n",
        "    val_targets = train_targets[i * num_val_samples: (i + 1) * num_val_samples]\n",
        "\n",
        "    # Prepare the training data: data from all other partitions\n",
        "    partial_train_data = torch.cat(\n",
        "        [train_data[:i * num_val_samples],\n",
        "         train_data[(i + 1) * num_val_samples:]],\n",
        "        axis=0)\n",
        "    partial_train_targets = torch.cat(\n",
        "        [train_targets[:i * num_val_samples],\n",
        "         train_targets[(i + 1) * num_val_samples:]],\n",
        "        axis=0)\n",
        "    \n",
        "    # Build the model\n",
        "    model = build_model()\n",
        "    # Define an SGD optimizer\n",
        "    optimizer = optim.SGD(model.parameters(), lr=0.001) \n",
        "    # Define the MAE loss function \n",
        "    mae_loss = nn.L1Loss(reduction='mean')\n",
        "    # Defina the MSE loss function\n",
        "    mse_loss = nn.MSELoss(reduction='mean')\n",
        "    \n",
        "    # TRAIN THE MODEL:\n",
        "    # Set the model to train\n",
        "    model.train()\n",
        "    # Create some random indices to go through the dataset randomly\n",
        "    batch_indeces = list(range(len(partial_train_data)//batch_size))\n",
        "    shuffle(batch_indeces)\n",
        "\n",
        "    # Train cycle:\n",
        "    for epoch in range(num_epochs):\n",
        "        running_train_loss=0\n",
        "        for b_idx in batch_indeces:\n",
        "\n",
        "            # Set gradients to zero for all parameters\n",
        "            optimizer.zero_grad()\n",
        "\n",
        "            # Create the batch\n",
        "            batch_start = b_idx * batch_size\n",
        "            batch_end = (b_idx + 1) * batch_size            \n",
        "            data_batch = partial_train_data[batch_start : batch_end]\n",
        "            target_batch = partial_train_targets[batch_start : batch_end]\n",
        "\n",
        "            # Get the predictions from the model\n",
        "            predictions = model(data_batch).squeeze()\n",
        "\n",
        "            # Calcualte the loss function\n",
        "            loss = mse_loss(predictions, target_batch)\n",
        "\n",
        "            # Back propagate and update parameters\n",
        "            loss.backward()\n",
        "            optimizer.step()\n",
        "            running_train_loss += loss.item()\n",
        "        \n",
        "        train_mae = running_train_loss / len(batch_indeces)\n",
        "        train_history.append(train_mae)\n",
        "        \n",
        "        # Evaluate the model on the validation data\n",
        "        \n",
        "        model.eval()\n",
        "        predictions = model(val_data).squeeze()\n",
        "        val_mae = mae_loss(predictions, val_targets).item()\n",
        "        val_history.append(val_mae)\n",
        "        \n",
        "    \n",
        "    all_mae_histories.append(train_history)\n",
        "    val_all_mae_histories.append(val_history)"
      ],
      "execution_count": 12,
      "outputs": [
        {
          "output_type": "stream",
          "text": [
            "processing fold # 0\n",
            "processing fold # 1\n",
            "processing fold # 2\n",
            "processing fold # 3\n"
          ],
          "name": "stdout"
        }
      ]
    },
    {
      "cell_type": "code",
      "metadata": {
        "id": "kvx00SJ9fbI3"
      },
      "source": [
        "# We can then compute the average of the per-epoch MAE scores for all folds:\n",
        "average_mae_history = [\n",
        "    np.mean([x[i] for x in all_mae_histories]) for i in range(num_epochs)]\n",
        "val_average_mae_history = [\n",
        "    np.mean([x[i] for x in val_all_mae_histories]) for i in range(num_epochs)]"
      ],
      "execution_count": 13,
      "outputs": []
    },
    {
      "cell_type": "code",
      "metadata": {
        "colab": {
          "base_uri": "https://localhost:8080/",
          "height": 279
        },
        "id": "4G-HrNxcfbI3",
        "outputId": "c7b99c94-99a5-4509-ac0e-0efb947d7d8a"
      },
      "source": [
        "%matplotlib inline\n",
        "import matplotlib.pyplot as plt\n",
        "\n",
        "plt.plot(range(1, len(average_mae_history) + 1), average_mae_history)\n",
        "plt.plot(range(1, len(val_average_mae_history) + 1), val_average_mae_history)\n",
        "plt.xlabel('Epochs')\n",
        "plt.ylabel('MAE')\n",
        "plt.legend(['training', 'validation'])\n",
        "plt.show()"
      ],
      "execution_count": 14,
      "outputs": [
        {
          "output_type": "display_data",
          "data": {
            "image/png": "[encoded data removed]",
            "text/plain": [
              "<Figure size 432x288 with 1 Axes>"
            ]
          },
          "metadata": {
            "tags": [],
            "needs_background": "light"
          }
        }
      ]
    },
    {
      "cell_type": "code",
      "metadata": {
        "colab": {
          "base_uri": "https://localhost:8080/",
          "height": 279
        },
        "id": "Ai1vRht-fbI3",
        "outputId": "3e40446d-d987-4619-8def-89fd349781c1"
      },
      "source": [
        "def smooth_curve(points, factor=0.9):\n",
        "  smoothed_points = []\n",
        "  for point in points:\n",
        "    if smoothed_points:\n",
        "      previous = smoothed_points[-1]\n",
        "      smoothed_points.append(previous * factor + point * (1 - factor))\n",
        "    else:\n",
        "      smoothed_points.append(point)\n",
        "  return smoothed_points\n",
        "\n",
        "smooth_mae_history = smooth_curve(average_mae_history[10:])\n",
        "val_smooth_mae_history = smooth_curve(val_average_mae_history[10:])\n",
        "\n",
        "plt.plot(range(1, len(smooth_mae_history) + 1), smooth_mae_history)\n",
        "plt.plot(range(1, len(val_smooth_mae_history) + 1), val_smooth_mae_history)\n",
        "plt.xlabel('Epochs')\n",
        "plt.ylabel('MAE')\n",
        "plt.legend(['training', 'validation'])\n",
        "plt.show()"
      ],
      "execution_count": 15,
      "outputs": [
        {
          "output_type": "display_data",
          "data": {
            "image/png": "[encoded data removed]",
            "text/plain": [
              "<Figure size 432x288 with 1 Axes>"
            ]
          },
          "metadata": {
            "tags": [],
            "needs_background": "light"
          }
        }
      ]
    },
    {
      "cell_type": "code",
      "metadata": {
        "id": "VeOQkCHmfbI4"
      },
      "source": [
        "import numpy as np\n",
        "from random import shuffle\n",
        "num_epochs = 60\n",
        "\n",
        "# Build the model\n",
        "train_history = []\n",
        "val_history = []\n",
        "model = build_model()\n",
        "optimizer = optim.SGD(model.parameters(), lr=0.001)\n",
        "mae_loss = nn.L1Loss(reduction='mean')\n",
        "mse_loss = nn.MSELoss(reduction='mean')\n",
        "# Train the model\n",
        "model.train()\n",
        "batch_indeces = list(range(len(train_data)//batch_size))\n",
        "shuffle(batch_indeces)\n",
        "for epoch in range(num_epochs):\n",
        "    for b_idx in batch_indeces:\n",
        "        optimizer.zero_grad()\n",
        "        batch_start = b_idx * batch_size\n",
        "        batch_end = (b_idx + 1) * batch_size\n",
        "        data_batch = train_data[batch_start : batch_end]\n",
        "        targets_batch = train_targets[batch_start : batch_end]\n",
        "        \n",
        "        predictions = model(data_batch).squeeze()\n",
        "        loss = mse_loss(predictions, targets_batch)\n",
        "        \n",
        "        loss.backward()\n",
        "        optimizer.step()\n",
        "    \n",
        "model.eval()\n",
        "predictions = model(test_data).squeeze()\n",
        "test_mae_score = mae_loss(predictions, test_targets)\n"
      ],
      "execution_count": 16,
      "outputs": []
    },
    {
      "cell_type": "code",
      "metadata": {
        "colab": {
          "base_uri": "https://localhost:8080/"
        },
        "id": "KKFDZov9fbI4",
        "outputId": "97e9cb46-0d44-4284-dbc9-55191b870371"
      },
      "source": [
        "test_mae_score # We are still off by about:$3.000"
      ],
      "execution_count": 17,
      "outputs": [
        {
          "output_type": "execute_result",
          "data": {
            "text/plain": [
              "tensor(2.9924, grad_fn=<L1LossBackward>)"
            ]
          },
          "metadata": {
            "tags": []
          },
          "execution_count": 17
        }
      ]
    }
  ]
}